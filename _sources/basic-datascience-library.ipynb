{
 "cells": [
  {
   "cell_type": "markdown",
   "metadata": {
    "tags": []
   },
   "source": [
    "# Basic Data Science Library\n",
    "\n",
    "Aktivitas yang paling sering dilakukan oleh data scientist adalah **eksplorasi data**. Bahkan, IBM menyebutkan bahwa **80% waktu data scientist habis untuk mengeksplor dan memahami data**. Untuk melakukannya, data scientist umumnya tidak cukup hanya menggunakan *built-in library* dari Python, diperlukan *third-party library* yang lebih efisien dalam mengolah dan memproses data yang biasanya sangat besar. Beberapa *library* yang umum digunakan seperti:\n",
    "\n",
    "1. NumPy\n",
    "2. Pandas\n",
    "3. Matplotlib\n",
    "4. Seaborn\n",
    "\n",
    "Oleh karena itu, kita akan berkenalan dengan 4 *library* di atas dan mencoba melakukan data eksplorasi pada dataset publik."
   ]
  },
  {
   "cell_type": "markdown",
   "metadata": {},
   "source": [
    "## Persiapan\n",
    "\n",
    "Sebelum kita mulai menggunakan ke-4 *library* ini, pastikan semuanya sudah terpasang. Kita bisa cek menjalankan perintah berikut pada cell baru:"
   ]
  },
  {
   "cell_type": "code",
   "execution_count": null,
   "metadata": {},
   "outputs": [],
   "source": [
    "# uncomment below code to check installed packages\n",
    "#!pip list | grep -E \"numpy|matplotlib|pandas|seaborn\""
   ]
  },
  {
   "cell_type": "markdown",
   "metadata": {},
   "source": [
    "Perintah di atas akan menampilkan nama *library* beserta angka *version* yang terpasang. Jika ternyata salah satu atau bahkan semua library belum terpasang, kita harus *install* terlebih dahulu menggunakan perintah:"
   ]
  },
  {
   "cell_type": "code",
   "execution_count": null,
   "metadata": {},
   "outputs": [],
   "source": [
    "# uncomment below code to install necessary packages, if you haven't\n",
    "#!pip install numpy matplotlib pandas seaborn"
   ]
  },
  {
   "cell_type": "markdown",
   "metadata": {},
   "source": [
    "Setelah semuanya siap, kita bisa lansung *import* 4 library tersebut."
   ]
  },
  {
   "cell_type": "code",
   "execution_count": null,
   "metadata": {},
   "outputs": [],
   "source": [
    "# import things\n",
    "import matplotlib.pyplot as plt\n",
    "import numpy as np\n",
    "import pandas as pd\n",
    "import seaborn as sns"
   ]
  },
  {
   "cell_type": "markdown",
   "metadata": {},
   "source": [
    "## The Power of NumPy\n",
    "\n",
    "```{admonition} Apa Itu NumPy?\n",
    "[NumPy](https://numpy.org/) is an open source project aiming to enable numerical computing with Python. It was created in 2005, building on the early work of the Numerical and Numarray libraries - [numpy official site](https://numpy.org/about/)\n",
    "```\n",
    "\n",
    "Dari definisi resmi di atas, kita sudah paham bahwa NumPy adalah sebuah package yang digunakan untuk **komputasi numerik**.\n",
    "\n",
    "### Why NumPy (instead of built-in List)?\n",
    "\n",
    "Dengan menggunakan NumPy array, kita bisa melakukan operasi matematika yang tidak bisa dilakukan oleh List. Selain itu, NumPy array lebih cepat daripada List ([*referensi*](https://towardsdatascience.com/how-fast-numpy-really-is-e9111df44347#:~:text=Even%20for%20the%20delete%20operation,also%20frees%20the%20memory%20faster.))."
   ]
  },
  {
   "cell_type": "markdown",
   "metadata": {},
   "source": [
    "### Array\n",
    "\n",
    "```{figure} https://numpy.org/devdocs/_images/np_array.png\n",
    ":alt: NumPy Array\n",
    ":name: numpy-array\n",
    ":align: center\n",
    "NumPy Array\n",
    "```\n",
    "\n",
    "Array adalah struktur data utama dalam NumPy. NumPy array juga mengonsumsi lebih sedikit memori dan mempunyai mekanisme menentukan tipe data ([*referensi*](https://numpy.org/devdocs/user/absolute_beginners.html#what-is-an-array))."
   ]
  },
  {
   "cell_type": "code",
   "execution_count": null,
   "metadata": {},
   "outputs": [],
   "source": [
    "arr_1d = np.array([1, 2, 3])\n",
    "arr_1d"
   ]
  },
  {
   "cell_type": "code",
   "execution_count": null,
   "metadata": {},
   "outputs": [],
   "source": [
    "type(arr_1d)"
   ]
  },
  {
   "cell_type": "markdown",
   "metadata": {},
   "source": [
    "```{note}\n",
    "`numpy.ndarray` adalah sebuah *class* yang merepresentasikan vektor dan juga matriks\n",
    "```"
   ]
  },
  {
   "cell_type": "code",
   "execution_count": null,
   "metadata": {},
   "outputs": [],
   "source": [
    "# dimensi array\n",
    "arr_1d.shape"
   ]
  },
  {
   "cell_type": "markdown",
   "metadata": {},
   "source": [
    "```{admonition} Apa perbedaan **array**, **vektor**, dan **matriks**?\n",
    "**Vektor** adalah array berdimensi satu (vektor baris = vektor kolom), sedangkan **matriks** adalah array berdimensi dua. Sehingga, **array** merupakan sebuah representasi data dalam `n`-dimensi.\n",
    "```"
   ]
  },
  {
   "cell_type": "code",
   "execution_count": null,
   "metadata": {},
   "outputs": [],
   "source": [
    "arr_2d = np.array([[1, 2], [3, 4], [5, 6]])\n",
    "arr_2d"
   ]
  },
  {
   "cell_type": "code",
   "execution_count": null,
   "metadata": {},
   "outputs": [],
   "source": [
    "arr_2d.shape"
   ]
  },
  {
   "cell_type": "code",
   "execution_count": null,
   "metadata": {},
   "outputs": [],
   "source": [
    "arr_3d = np.array([[[0, 1, 2], [1, 2, 3]], [[10, 11, 12], [11, 12, 13]]])\n",
    "arr_3d"
   ]
  },
  {
   "cell_type": "code",
   "execution_count": null,
   "metadata": {},
   "outputs": [],
   "source": [
    "arr_3d.shape"
   ]
  },
  {
   "cell_type": "markdown",
   "metadata": {},
   "source": [
    "### Pembuatan Array Otomatis\n",
    "\n",
    "Selain dengan `np.array`, kita juga bisa membuat array secara otomatis dengan nilai dan pola tertentu."
   ]
  },
  {
   "cell_type": "code",
   "execution_count": null,
   "metadata": {},
   "outputs": [],
   "source": [
    "arr_zeros = np.zeros((3, 3))\n",
    "arr_zeros"
   ]
  },
  {
   "cell_type": "code",
   "execution_count": null,
   "metadata": {},
   "outputs": [],
   "source": [
    "arr_ones = np.ones((2, 2))\n",
    "arr_ones"
   ]
  },
  {
   "cell_type": "code",
   "execution_count": null,
   "metadata": {},
   "outputs": [],
   "source": [
    "arr_empty = np.empty(2)\n",
    "arr_empty"
   ]
  },
  {
   "cell_type": "code",
   "execution_count": null,
   "metadata": {},
   "outputs": [],
   "source": [
    "arr_arange = np.arange(start=-3, stop=4, step=1)\n",
    "arr_arange"
   ]
  },
  {
   "cell_type": "code",
   "execution_count": null,
   "metadata": {},
   "outputs": [],
   "source": [
    "arr_space = np.linspace(start=1, stop=2)\n",
    "arr_space"
   ]
  },
  {
   "cell_type": "code",
   "execution_count": null,
   "metadata": {},
   "outputs": [],
   "source": [
    "arr_identity = np.eye(4)\n",
    "arr_identity"
   ]
  },
  {
   "cell_type": "code",
   "execution_count": null,
   "metadata": {},
   "outputs": [],
   "source": [
    "arr_full = np.full((4, 4), 5)\n",
    "arr_full"
   ]
  },
  {
   "cell_type": "markdown",
   "metadata": {},
   "source": [
    "### Indexing dan Slicing\n",
    "\n",
    "NumPy array juga memberikan kita keleluasaan untuk mengambil sebagian nilai dalam suatu array. Hampir mirip dengan `list` yang juga membolehkan kita untuk indexing dan slicing, akan tetapi dengan cara yang lebih elegan.\n",
    "\n",
    "```{figure} https://numpy.org/devdocs/_images/np_matrix_indexing.png\n",
    ":alt: Array 2D Indexing\n",
    ":name: array-2d-indexing\n",
    ":align: center\n",
    "Indexing in 2-Dimensional NumPy Array\n",
    "```\n",
    "\n",
    "```{admonition} List vs NumPy\n",
    "Misal kita gunakan `arr_2d`. Kita ingin menampilkan nilai pada:\n",
    "1. Baris pertama dan kolom kedua\n",
    "2. Baris kedua dan ketiga dan kolom kedua\n",
    "\n",
    "**List**\n",
    "1. `list_arr_2d[0][1]`\n",
    "2. `list_arr_2d[-2:][1]`\n",
    "\n",
    "**NumPy**\n",
    "1. `arr_2d[0, 1]`\n",
    "2. `arr_2d[-2:, 1]`\n",
    "```\n",
    "\n",
    "Penomoran indeks pada NumPy array sama dengan indeks pada list.\n",
    "\n",
    "```{figure} https://www.oreilly.com/library/view/python-for-data/9781449323592/httpatomoreillycomsourceoreillyimages2172112.png\n",
    ":alt: Array Index\n",
    ":name: array-index\n",
    ":align: center\n",
    ":width: 50%\n",
    "Penomoran indeks pada array\n",
    "```"
   ]
  },
  {
   "cell_type": "code",
   "execution_count": null,
   "metadata": {},
   "outputs": [],
   "source": [
    "arr_2d"
   ]
  },
  {
   "cell_type": "code",
   "execution_count": null,
   "metadata": {},
   "outputs": [],
   "source": [
    "print(\"row 0:\", arr_2d[2, :])\n",
    "print(\"row 0:\", arr_2d[0, ...])\n",
    "print(\"row 1:\", arr_2d[1, :])"
   ]
  },
  {
   "cell_type": "markdown",
   "metadata": {},
   "source": [
    "```{admonition} Eksplorasi\n",
    "Dengan menggunakan `arr_3d`:\n",
    "1. Tampilkan array 2-dimensi dengan nilai [[0, 1, 2], [11, 12, 13]]\n",
    "2. Tampilkan array 2-dimensi dengan nilai [[3, 2], [13, 12]]\n",
    "```"
   ]
  },
  {
   "cell_type": "code",
   "execution_count": null,
   "metadata": {},
   "outputs": [],
   "source": [
    "# TODO: [[0, 1, 2], [11, 12, 13]]\n",
    "\n",
    "# TODO: [[3, 2], [13, 12]]\n"
   ]
  },
  {
   "cell_type": "markdown",
   "metadata": {},
   "source": [
    "### Fungsi yang Sering Digunakan dalam NumPy\n",
    "\n",
    "Beberapa fungsi yang sering digunakan saat eksplorasi data."
   ]
  },
  {
   "cell_type": "markdown",
   "metadata": {},
   "source": [
    "**Pengambilan sampel acak**: `np.random`"
   ]
  },
  {
   "cell_type": "code",
   "execution_count": null,
   "metadata": {},
   "outputs": [],
   "source": [
    "arr_random = np.random.rand(5, 5)    # bilangan acak berdistribusi uniform dengan ukuran 5x5\n",
    "arr_random"
   ]
  },
  {
   "cell_type": "code",
   "execution_count": null,
   "metadata": {},
   "outputs": [],
   "source": [
    "arr_randn = np.random.randn(4, 10)\n",
    "arr_randn"
   ]
  },
  {
   "cell_type": "code",
   "execution_count": null,
   "metadata": {},
   "outputs": [],
   "source": [
    "arr_randint = np.random.randint(low=-10, high=10, size=(2, 3))\n",
    "arr_randint"
   ]
  },
  {
   "cell_type": "markdown",
   "metadata": {},
   "source": [
    "```{warning}\n",
    "Sebagai catatan, versi terbaru NumPy menyarankan untuk menggunakan `np.random.default_rng()` setiap kali kita ingin membangkitkan bilangan acak.\n",
    "```"
   ]
  },
  {
   "cell_type": "code",
   "execution_count": null,
   "metadata": {},
   "outputs": [],
   "source": [
    "generator = np.random.default_rng(41)\n",
    "\n",
    "y = generator.random((1, 10))\n",
    "print(y)\n",
    "\n",
    "yhat = generator.random((1, 10))\n",
    "print(yhat)"
   ]
  },
  {
   "cell_type": "markdown",
   "metadata": {},
   "source": [
    "**Pengubahan ukuran array**: `np.reshape`, `arr.flatten`"
   ]
  },
  {
   "cell_type": "code",
   "execution_count": null,
   "metadata": {},
   "outputs": [],
   "source": [
    "print(\"ukuran array:\", arr_randn.shape)\n",
    "\n",
    "arr_randn_2 = arr_randn.reshape(5, 8)    # atau dengan np.reshape\n",
    "print(\"ukuran array baru:\", arr_randn_2.shape)\n",
    "print(arr_randn_2)"
   ]
  },
  {
   "cell_type": "code",
   "execution_count": null,
   "metadata": {},
   "outputs": [],
   "source": [
    "arr_flatten = arr_randn.flatten()\n",
    "print(\"ukuran array flatten:\", arr_flatten.shape)\n",
    "print(arr_flatten)"
   ]
  },
  {
   "cell_type": "markdown",
   "metadata": {},
   "source": [
    "**Penggabungan array**: `np.concatenate`"
   ]
  },
  {
   "cell_type": "code",
   "execution_count": null,
   "metadata": {},
   "outputs": [],
   "source": [
    "arr_randint_2 = np.concatenate([arr_randint, arr_randint[-1].reshape(1, arr_randint.shape[1])*-1])\n",
    "arr_randint_2"
   ]
  },
  {
   "cell_type": "code",
   "execution_count": null,
   "metadata": {},
   "outputs": [],
   "source": [
    "arr_ero = np.concatenate([np.eye(arr_randint_2.shape[0]), arr_randint_2], axis=1)\n",
    "arr_ero"
   ]
  },
  {
   "cell_type": "markdown",
   "metadata": {},
   "source": [
    "**Pengurutan**: `np.sort`"
   ]
  },
  {
   "cell_type": "code",
   "execution_count": null,
   "metadata": {},
   "outputs": [],
   "source": [
    "np.sort(arr_2d)    # mengurutkan nilai column-wise (default)"
   ]
  },
  {
   "cell_type": "code",
   "execution_count": null,
   "metadata": {},
   "outputs": [],
   "source": [
    "np.sort(arr_2d, axis=0)"
   ]
  },
  {
   "cell_type": "markdown",
   "metadata": {},
   "source": [
    "### Mathematical Formula\n",
    "\n",
    "Salah satu keunggulan NumPy array adalah kemampuannya untuk melakukan komputasi numerik dengan cepat. Mari kita coba menghitung nilai MSE dengan NumPy array.\n",
    "\n",
    "```{tip}\n",
    "Bisa menggunakan `numpy.sum` atau *built-in function* `sum` dari Python. \n",
    "```\n",
    "\n",
    "$$\n",
    "MSE = \\frac{1}{n} \\sum_{i=1}^{n}{(\\hat{y} - y)^2}\n",
    "$$"
   ]
  },
  {
   "cell_type": "code",
   "execution_count": null,
   "metadata": {},
   "outputs": [],
   "source": [
    "# TODO: hitung nilai MSE dengan fungsi numpy\n"
   ]
  },
  {
   "cell_type": "markdown",
   "metadata": {
    "tags": []
   },
   "source": [
    "## Pandas Is All You Need\n",
    "\n",
    "```{admonition} Apa Itu Pandas\n",
    "Pandas is a software library written for the Python programming language for **data manipulation** and **analysis**. In particular, it offers data structures and operations for manipulating numerical tables and time series - [wikipedia](https://en.wikipedia.org/wiki/Pandas_(software))\n",
    "```\n",
    "\n",
    "[Pandas](https://pandas.pydata.org/) (dari *panel data*) berfungsi sebagai pondasi dasar tingkat tinggi untuk melakukan analisis data secara praktis ([*source*](https://pandas.pydata.org/about/)). Perbedaan dengan NumPy adalah pandas didesain untuk bekerja dengan data tabular atau heterogen, sedangkan NumPy didesain untuk bekerja dengan data numerik homogen.\n",
    "\n",
    "### Series\n",
    "\n",
    "Series adalah struktur data berdimensi satu (seperti array 1 dimensi pada NumPy) yang memiliki sebuah label yang biasa disebut index.\n",
    "\n",
    "```{figure} https://pandas.pydata.org/docs/_images/01_table_series.svg\n",
    ":alt: Pandas Series\n",
    ":name: series\n",
    ":align: center\n",
    "Pandas `Series` ([ref](https://pandas.pydata.org/docs/getting_started/intro_tutorials/01_table_oriented.html#each-column-in-a-dataframe-is-a-series))\n",
    "```"
   ]
  },
  {
   "cell_type": "code",
   "execution_count": null,
   "metadata": {},
   "outputs": [],
   "source": [
    "series_1 = pd.Series([-3, -2, -1, 0, 1, 2, 3])"
   ]
  },
  {
   "cell_type": "code",
   "execution_count": null,
   "metadata": {},
   "outputs": [],
   "source": [
    "series_1"
   ]
  },
  {
   "cell_type": "code",
   "execution_count": null,
   "metadata": {},
   "outputs": [],
   "source": [
    "series_1.name = \"integers\""
   ]
  },
  {
   "cell_type": "code",
   "execution_count": null,
   "metadata": {},
   "outputs": [],
   "source": [
    "series_1"
   ]
  },
  {
   "cell_type": "code",
   "execution_count": null,
   "metadata": {},
   "outputs": [],
   "source": [
    "print(\"index:\", series_1.index)\n",
    "\n",
    "# ubah index dengan alfabet\n",
    "series_1.index = [\"a\", \"b\", \"c\", \"d\", \"e\", \"f\", \"g\"]\n",
    "\n",
    "print(\"index baru:\", series_1.index)"
   ]
  },
  {
   "cell_type": "code",
   "execution_count": null,
   "metadata": {},
   "outputs": [],
   "source": [
    "series_1"
   ]
  },
  {
   "cell_type": "code",
   "execution_count": null,
   "metadata": {},
   "outputs": [],
   "source": [
    "dict_population = {\"Texas\": 71000, \"Oregon\": 16000, \"Ohio\": 35000, \"Utah\": 500}\n",
    "states = [\"California\", \"Texas\", \"Ohio\", \"Utah\"]\n",
    "s_population = pd.Series(dict_population, index=states, name=\"population\")"
   ]
  },
  {
   "cell_type": "markdown",
   "metadata": {
    "tags": []
   },
   "source": [
    "### DataFrame\n",
    "\n",
    "DataFrame merepresentasikan sebuah data berbentuk tabel yang terdiri dari beberapa kolom dengan tipe data tertentu dan baris dengan index-nya.\n",
    "\n",
    "```{figure} https://pandas.pydata.org/docs/_images/01_table_dataframe.svg\n",
    ":alt: Pandas DataFrame\n",
    ":name: dataframe\n",
    ":align: center\n",
    "Pandas `DataFrame` ([ref](https://pandas.pydata.org/docs/getting_started/intro_tutorials/01_table_oriented.html#min-tut-01-tableoriented))\n",
    "```\n",
    "\n",
    "Seperti halnya NumPy array, kita bisa mendapatkan ukuran dari sebuah DataFrame/Series dengan variabel `shape`."
   ]
  },
  {
   "cell_type": "code",
   "execution_count": null,
   "metadata": {},
   "outputs": [],
   "source": [
    "df_marvel = pd.DataFrame({\n",
    "    \"Name\": [\"Tony Stark\", \"Strange\", \"Peter Parker\", \"Natasha\"],\n",
    "    \"Age\": [35, 34, 22, 30],\n",
    "    \"Sex\": [\"Male\", \"Male\", \"Male\", \"Female\"]\n",
    "})\n",
    "df_marvel"
   ]
  },
  {
   "cell_type": "code",
   "execution_count": null,
   "metadata": {},
   "outputs": [],
   "source": [
    "df_array = pd.DataFrame(arr_ero)\n",
    "df_array"
   ]
  },
  {
   "cell_type": "code",
   "execution_count": null,
   "metadata": {},
   "outputs": [],
   "source": [
    "print(\"Nama kolom:\", df_array.columns)\n",
    "print(\"Nama index:\", df_array.index)"
   ]
  },
  {
   "cell_type": "code",
   "execution_count": null,
   "metadata": {},
   "outputs": [],
   "source": [
    "n_row, n_col = df_array.shape\n",
    "print(\"Jumlah baris:\", n_row)\n",
    "print(\"Jumlah kolom:\", n_col)"
   ]
  },
  {
   "cell_type": "markdown",
   "metadata": {},
   "source": [
    "### Membaca File\n",
    "\n",
    "Salah satu keunggulan Pandas adalah kemampuan untuk membaca sebuah file data dan menampilkannya dalam format DataFrame. Pandas menyediakan beberapa function untuk membaca file sesuai dengan [formatnya](https://pandas.pydata.org/pandas-docs/stable/reference/io.html), `read_csv` untuk file `.csv`, `read_excel` untuk file Excel, `read_gbq` untuk membaca tabel dari Google BigQuery, dan lainnya.\n",
    "\n",
    "\n",
    "Sebagai contoh, kita coba baca sebuah data konten akun perusahaan-perusahaan dari LinkedIn. Terlebih dahulu kita harus unduh datanya melalui link [ini](https://www.kaggle.com/shreyasajal/linkedin-company-pages-data). Kemudian, simpan data tersebut di dalam sebuah folder `data`."
   ]
  },
  {
   "cell_type": "code",
   "execution_count": null,
   "metadata": {},
   "outputs": [],
   "source": [
    "df_company = pd.read_csv(\"data/company_data.csv\")"
   ]
  },
  {
   "cell_type": "code",
   "execution_count": null,
   "metadata": {},
   "outputs": [],
   "source": [
    "df_company.head()    # menampilkan pratinjau 5 baris pertama data"
   ]
  },
  {
   "cell_type": "code",
   "execution_count": null,
   "metadata": {},
   "outputs": [],
   "source": [
    "df_company.tail()    # menampilkan pratinjau 5 baris terakhir data"
   ]
  },
  {
   "cell_type": "markdown",
   "metadata": {},
   "source": [
    "Jika data berhasil dibaca dengan benar, kita akan temui beberapa kolom dengan nilai `NaN` atau singkatan dari *Not a number*. Jenis nilai ini diturunkan dari NumPy array (`np.nan`) yang juga digunakan dalam Pandas. Salah satu method yang bisa kita gunakann untuk mendapatkan pratinjau keseluruhan tipe data tiap kolom pada DataFrame adalah `info`."
   ]
  },
  {
   "cell_type": "markdown",
   "metadata": {},
   "source": [
    "### Ringkasan DataFrame"
   ]
  },
  {
   "cell_type": "code",
   "execution_count": null,
   "metadata": {},
   "outputs": [],
   "source": [
    "df_company.info()"
   ]
  },
  {
   "cell_type": "markdown",
   "metadata": {},
   "source": [
    "Informasi di atas menjelaskan beberapa hal:\n",
    "\n",
    "1. `RangeIndex: 11654 entries, 0 to 11653` menjelaskan bahwa terdapat **11654** baris dengann indeks 0 sampai 11653.\n",
    "2. `Data columns (total 19 columns):` menjelaskan terdapat total 19 kolom yang diikuti informasi tiap kolom di bawahnya\n",
    "3. Pada tabel di atas, kolom paling kanan, `Dtype` menjelaskan tipe data yang ada pada masing-masing kolom. Beberapa tipe data yang didukung oleh Pandas bisa dilihat di [sini](https://pandas.pydata.org/pandas-docs/stable/getting_started/basics.html#dtypes).\n",
    "4. Kolom kedua dari kanan merepresentasikan jumlah nilai `non-null` atau nilai yang bukan `NaN` atau `NaT` (nilai N/A untuk tipe data `datetime`).\n",
    "5. Dua kolom paling kiri menjelaskan nama kolom serta indeks kolom.\n",
    "\n",
    "Dari informasi yang disediakan oleh method `info` di atas, kita sudah bisa membuat pertanyaan-pertanyaan awal seperti:\n",
    "* Kolom mana saja yang memiliki *missing value*? **...**\n",
    "* Berapa persentase *missing value* pada masing-masing kolom? **...**\n",
    "* Apakah semua kolom sudah berasosiasi dengan tipe data yang benar? **...**"
   ]
  },
  {
   "cell_type": "code",
   "execution_count": null,
   "metadata": {},
   "outputs": [],
   "source": [
    "cols_with_missing = df_company.columns[df_company.isna().any()].tolist()\n",
    "cols_without_missing = df_company.columns[df_company.notna().all()].tolist()\n",
    "\n",
    "print(\"Kolom dengan missing value:\", cols_with_missing)\n",
    "print(\"Kolom tanpa missing value:\", cols_without_missing)"
   ]
  },
  {
   "cell_type": "markdown",
   "metadata": {},
   "source": [
    "```{admonition} Eksplorasi\n",
    "**Berapa persentasi *missing value* tiap kolom?**\n",
    "\n",
    "Untuk menjawab pertanyaan di atas, kita bisa secara sederhana menghitung jumlah *missing value* pada setiap kolom yang memiliki *missing value*, kemudian bagi dengan jumlah barisnya.\n",
    "```"
   ]
  },
  {
   "cell_type": "code",
   "execution_count": null,
   "metadata": {},
   "outputs": [],
   "source": [
    "# TODO: hitung persentase missing value tiap kolom\n"
   ]
  },
  {
   "cell_type": "markdown",
   "metadata": {},
   "source": [
    "Selain method `info`, Pandas juga menyediakan function untuk menunjukkan *statistics summary* sesuai dengan tipe data tiap kolom, yaitu [*`describe`*](https://pandas.pydata.org/pandas-docs/stable/reference/api/pandas.DataFrame.describe.html).\n",
    "\n"
   ]
  },
  {
   "cell_type": "code",
   "execution_count": null,
   "metadata": {},
   "outputs": [],
   "source": [
    "df_company.describe()    # stats summary untuk kolom bertipe data numerik"
   ]
  },
  {
   "cell_type": "code",
   "execution_count": null,
   "metadata": {},
   "outputs": [],
   "source": [
    "df_company.describe(exclude=\"number\")    # stats summary untuk kolom-kolom selain kolom numerik"
   ]
  },
  {
   "cell_type": "markdown",
   "metadata": {},
   "source": [
    "Dari ringkasan statistik di atas, ada 2 kolom dengan persentase *missing value* yang sangat besar, yaitu `views` dan `votes`. Ada 2 cara untuk menangani *missing value* pada suatu data, yaitu kita bisa *drop* kolom atau baris dengan *missing value* tersebut atau kita bisa beri nilai berdasarkan rata-rata, median, modus, atau cara lain, sesuai dengan kebutuhan. Untuk kali ini, karena tujuan kita adalah eksplorasi data, kita bisa \"buang\" 2 kolom tersebut dengan method `drop` atau `dropna`.\n",
    "\n",
    "```{tip}\n",
    "`drop` mengizinkan kita untuk membuang data dengan menentukan baris atau kolom yang hendak dibuang. Sedangkan, `dropna` akan membuang baris atau kolom berdasarkan kondisi ada atau tidaknnya *missing value* pada baris atau kolom tersebut.\n",
    "```"
   ]
  },
  {
   "cell_type": "code",
   "execution_count": null,
   "metadata": {},
   "outputs": [],
   "source": [
    "df_company.drop(columns=[\"views\", \"votes\", \"Unnamed: 0\"])"
   ]
  },
  {
   "cell_type": "markdown",
   "metadata": {},
   "source": [
    "```{admonition} Eksplorasi\n",
    "1. Ada berapa jenis `media_type` yang di-*post* oleh perusahaan-perusahaan tersebut?\n",
    "2. Tampilkan ragam kategori media tersebut!\n",
    "3. Tampilkan frekuensi penggunaan kategori media secara keseluruhan!\n",
    "```"
   ]
  },
  {
   "cell_type": "markdown",
   "metadata": {},
   "source": [
    "Terdapat kolom `Kategori` yang berisi nilai dengan tipe data `object`. Kita bisa mendapatkan ragam nilai dalam kolom tersebut dengan menggunakan method `nunique`, `unique`, dan `value_counts`."
   ]
  },
  {
   "cell_type": "code",
   "execution_count": null,
   "metadata": {},
   "outputs": [],
   "source": [
    "# TODO: jumlah kategori `media_type`\n",
    "\n",
    "# TODO: ragam kategori media\n",
    "\n",
    "# TODO: frekuensi penggunaan media berdasarkan kategorinya\n"
   ]
  },
  {
   "cell_type": "markdown",
   "metadata": {},
   "source": [
    "Sekarang, misalkan kita ingin mengetahui statistik keseluruhan dari masing-masing perusahaan dalam hal jumlah koneksi (*connections*), jumlah pengikut (*followers*), jumlah reaksi terhadap *post* (*reactions*), dan jumlah komentar (*comments*). Langkah pertama mungkin kita ingin melihat beberapa contoh perusahaan satu per satu. Kita bisa gunakan atribut `.loc` ataupun `.iloc` untuk melakukan indexing dan juga slicing."
   ]
  },
  {
   "cell_type": "code",
   "execution_count": null,
   "metadata": {},
   "outputs": [],
   "source": [
    "df_company.loc[df_company.name == \"Pfizer\"]"
   ]
  },
  {
   "cell_type": "code",
   "execution_count": null,
   "metadata": {},
   "outputs": [],
   "source": [
    "df_company.loc[df_company.name == \"AT&T\"].head()"
   ]
  },
  {
   "cell_type": "markdown",
   "metadata": {},
   "source": [
    "Kita tidak mungkin untuk menghitung satu per satu statistik perusahaan karena frekuensi *post* tiap perusahaan yang sangat banyak. Untuk itu, kita bisa menggunakan fitur pandas, yaitu **`gruopby`**, yang akan mengelompokkan data berdasarkan suatu kolom yang diberikan, kemudian melakukan operasi atau agregasi apapun yang kita hendaki."
   ]
  },
  {
   "cell_type": "code",
   "execution_count": null,
   "metadata": {},
   "outputs": [],
   "source": [
    "df_company.groupby(\"name\").agg({\"reactions\": sum, \"comments\": sum})"
   ]
  },
  {
   "cell_type": "markdown",
   "metadata": {},
   "source": [
    "Jika kita ingin menghasilkan data agregasi yang lebih rapi dan representatif, kita bisa tambahkan beberapa fungsi bawaan pandas seperti berikut.\n",
    "\n",
    "```python\n",
    "df_company.groupby(\"name\").agg({\"reactions\": sum, \"comments\": sum}).rename(columns={\"reactions\": \"sum_reactions\", \"comments\": \"sum_comments\"}).rename_axis(None)\n",
    "```"
   ]
  },
  {
   "cell_type": "markdown",
   "metadata": {},
   "source": [
    "## Visualizing Data with Matplotlib & Seaborn\n",
    "\n",
    "Visualisasi data sebenanrya sebagian seni dan sebagian lagi sains. Tantangannya adalah bagaimana menghasilkan visual (seni) yang benar tanpa merusak sains dalam data dan sebaliknya. Visualisasi bisa kita bagi menjadi **just right**, **ugly**, **bad**, dan **wrong** ([*referensi*](https://serialmentor.com/dataviz/introduction.html)).\n",
    "\n",
    "```{figure} https://serialmentor.com/dataviz/introduction_files/figure-html/ugly-bad-wrong-examples-1.png\n",
    ":alt: Ugly Bad Wrong Viz\n",
    ":name: ugly-bad-wrong-viz\n",
    ":align: center\n",
    ":width: 50%\n",
    "Contoh visualisasi yang cenderung **ugly**, **bad**, dan **wrong**.\n",
    "```\n",
    "\n",
    "```{admonition} Apa Itu Matplotlib?\n",
    "Matplotlib is a Python 2D plotting library which produces publication quality figures in a variety of hardcopy formats and interactive environments across platforms. Matplotlib can be used in Python scripts, the Python and IPython shells, the Jupyter notebook, web application servers, and four graphical user interface toolkits. - [TDS](https://medium.com/analytics-vidhya/a-beginners-guide-to-matplotlib-for-data-visualization-and-exploration-in-python-3fb32d03c3cd)\n",
    "```\n",
    "\n",
    "Sebagai latihan untuk visualisasi data, kita akan menggunakan data dari [*Food Demand Forecasting*](https://datahack.analyticsvidhya.com/contest/genpact-machine-learning-hackathon-1/). Pertama, kita coba baca data dari file `data/food-demand-forecasting/`. Ada 3 data yang akan kita muat:\n",
    "\n",
    "1. `fulfilment_center_info.csv`: informasi tentang dapur kota (*fulfilment center*)\n",
    "2. `meal_info.csv`: informasi tentang makanan yang disediakan\n",
    "3. `food_demand.csv`: histori data permintaan makanan\n",
    "\n",
    "**Perlu diketahui, tujuan kita bukan untuk membuat model machine learning, tapi eksplorasi data yang dibantu dengan visualisasi.**"
   ]
  },
  {
   "cell_type": "code",
   "execution_count": null,
   "metadata": {},
   "outputs": [],
   "source": [
    "df_center = pd.read_csv(\"data/food-demand-forecasting/fulfilment_center_info.csv\")\n",
    "df_center.head()"
   ]
  },
  {
   "cell_type": "code",
   "execution_count": null,
   "metadata": {},
   "outputs": [],
   "source": [
    "df_meal = pd.read_csv(\"data/food-demand-forecasting/meal_info.csv\")\n",
    "df_meal.head()"
   ]
  },
  {
   "cell_type": "code",
   "execution_count": null,
   "metadata": {},
   "outputs": [],
   "source": [
    "df_demand = pd.read_csv(\"data/food-demand-forecasting/food_demand.csv\")\n",
    "df_demand.head()"
   ]
  },
  {
   "cell_type": "markdown",
   "metadata": {},
   "source": [
    "Pada `df_demand`, kolom `center_id` dan `meal_id` berturut-turut merepresentasikan *identifier* pada `df_center` dan `df_meal`. Daripada kita harus melihat 3 tabel sepanjang melakukan eksplorasi, kita bisa menggabungkan ketiga data ini menjadi satu tabel berdasarkan `center_id` dan `meal_id` menggunakan method [*`merge`*](https://pandas.pydata.org/pandas-docs/stable/reference/api/pandas.DataFrame.merge.html) dari Pandas."
   ]
  },
  {
   "cell_type": "code",
   "execution_count": null,
   "metadata": {},
   "outputs": [],
   "source": [
    "df = pd.merge(df_demand, df_center, on=\"center_id\")\n",
    "df.head()"
   ]
  },
  {
   "cell_type": "code",
   "execution_count": null,
   "metadata": {},
   "outputs": [],
   "source": [
    "df = pd.merge(df, df_meal, on=\"meal_id\")\n",
    "df.head()"
   ]
  },
  {
   "cell_type": "markdown",
   "metadata": {},
   "source": [
    "### What to Visualize\n",
    "\n",
    "Ada beberapa jenis visualisasi yang bisa dibuat sesuai dengan jenis data dan tujuan yang ingin disampaikan.\n",
    "\n",
    "**Kuantitas**: Bentuk visualisasi yang sering digunakan untuk menunjukkan sebuah *jumlah/kuantitas* dalam suatu kategori adalah **bar plot** (vertikal atau horizontal)\n",
    "\n",
    "```{figure} https://serialmentor.com/dataviz/directory_of_visualizations_files/figure-html/amounts-1.png\n",
    ":name: amounts-viz\n",
    ":align: center\n",
    "Contoh visualisasi yang merepresentasikan kuantitas ([ref](https://serialmentor.com/dataviz/directory-of-visualizations.html)).\n",
    "```\n",
    "\n",
    "Jika terdapat beberapa grup kategori yang ditampilkan nilai jumlahnya, kita bisa membuat **grouped bar** atau **stacked bar**.\n",
    "\n",
    "```{figure} https://serialmentor.com/dataviz/directory_of_visualizations_files/figure-html/amounts_multi-1.png\n",
    ":name: amounts-multi-viz\n",
    "Contoh visualisasi yang merepresentasikan kuantitas berdasarkan grup([ref](https://serialmentor.com/dataviz/directory-of-visualizations.html)).\n",
    "```\n",
    "\n",
    "**Distribusi**: Bentuk visualisasi yang sering digunakan untuk menunjukkan *distribusi* dari suatu kolom adalah *histogram* atau *density plot*.\n",
    "\n",
    "```{figure} https://serialmentor.com/dataviz/directory_of_visualizations_files/figure-html/single-distributions-1.png\n",
    ":name: dist-viz\n",
    ":align: center\n",
    "Contoh visualisasi yang merepresentasikan distribusi ([ref](https://serialmentor.com/dataviz/directory-of-visualizations.html)).\n",
    "```\n",
    "\n",
    "Jika kita ingin menampilkan beberapa distribusi untuk dibandingkan satu sama lain, kita bisa menggunakan visualisasi seperti *boxplot*, *violins*, dan lainnya seperti contoh di bawah ini.\n",
    "\n",
    "```{figure} https://serialmentor.com/dataviz/directory_of_visualizations_files/figure-html/multiple-distributions-1.png\n",
    ":name: dist-multi-viz\n",
    ":align: center\n",
    "Contoh visualisasi yang merepresentasikan perbandingan distribusi ([ref](https://serialmentor.com/dataviz/directory-of-visualizations.html)).\n",
    "```\n",
    "\n",
    "**Proporsi**: Untuk tujuan proporsi, kita bisa menggunakan beberapa bentuk visualisasi seperti di bawah ini.\n",
    "\n",
    "```{figure} https://serialmentor.com/dataviz/directory_of_visualizations_files/figure-html/proportions-1.png\n",
    ":name: prop-viz\n",
    ":align: center\n",
    "Contoh visualisasi yang merepresentasikan proporsi ([ref](https://serialmentor.com/dataviz/directory-of-visualizations.html)).\n",
    "```\n",
    "\n",
    "**Relasi *x-y***: Untuk tujuan ini, kita bisa menggunakan visualisasi seperti *scatter plot*, *line plot*, ataupun juga *bubble chart* (3 variabel). Berikut beberapa contoh visualisasinya.\n",
    "\n",
    "```{figure} https://serialmentor.com/dataviz/directory_of_visualizations_files/figure-html/basic-scatter-1.png\n",
    ":name: relation-viz\n",
    ":align: center\n",
    "Contoh visualisasi yang merepresentasikan relasi antara variabel `x` dan `y` ([ref](https://serialmentor.com/dataviz/directory-of-visualizations.html)).\n",
    "```"
   ]
  },
  {
   "cell_type": "markdown",
   "metadata": {},
   "source": [
    "### Bar Plot\n",
    "\n",
    "Misal kita ingin menunjukkan kategori makanan terpopuler dari semua permintaan makanan pada tiap kota. Kita harus menghitung jumlah permintaan untuk setiap kategori terlebih dahulu menggunakan method `groupby`.\n",
    "\n",
    "Selanjutnya, untuk membuat bar plot, kita gunakan function [`plt.bar`](https://matplotlib.org/3.1.1/api/_as_gen/matplotlib.pyplot.bar.html)."
   ]
  },
  {
   "cell_type": "code",
   "execution_count": null,
   "metadata": {},
   "outputs": [],
   "source": [
    "grouped_category = df.groupby(by=\"category\")\n",
    "\n",
    "sum_category_orders = grouped_category.aggregate({\n",
    "    \"num_orders\": np.sum\n",
    "})"
   ]
  },
  {
   "cell_type": "code",
   "execution_count": null,
   "metadata": {},
   "outputs": [],
   "source": [
    "plt.bar(sum_category_orders.index, sum_category_orders[\"num_orders\"])\n",
    "plt.show()"
   ]
  },
  {
   "cell_type": "code",
   "execution_count": null,
   "metadata": {},
   "outputs": [],
   "source": [
    "# ukuran canvas\n",
    "plt.figure(figsize=(12, 6))\n",
    "\n",
    "plt.bar(sum_category_orders.index, sum_category_orders[\"num_orders\"])\n",
    "\n",
    "# konfigurasi di x-axis\n",
    "plt.xticks(rotation=75)\n",
    "plt.xlabel(\"Food Category\")\n",
    "\n",
    "# konfigurasi di y-axis\n",
    "plt.ylabel(\"Quantity Sold\")\n",
    "\n",
    "# judul plot\n",
    "plt.title(\"Most Popular Food\")\n",
    "\n",
    "plt.show()"
   ]
  },
  {
   "cell_type": "code",
   "execution_count": null,
   "metadata": {},
   "outputs": [],
   "source": [
    "plt.figure(figsize=(12, 6))\n",
    "sns.barplot(sum_category_orders.index, sum_category_orders[\"num_orders\"])\n",
    "plt.xticks(rotation=75)\n",
    "plt.xlabel(\"Food Category\")\n",
    "plt.ylabel(\"Quantity Sold\")\n",
    "plt.title(\"Most Popular Food\")\n",
    "plt.show()"
   ]
  },
  {
   "cell_type": "markdown",
   "metadata": {},
   "source": [
    "### Pie Chart\n",
    "\n",
    "Mari kita lihat presentase pesanan untuk setiiap *cuisine*."
   ]
  },
  {
   "cell_type": "code",
   "execution_count": null,
   "metadata": {},
   "outputs": [],
   "source": [
    "total_orders = df[\"num_orders\"].sum()\n",
    "dict_cuisine = {\n",
    "    cuisine: df.loc[df['cuisine']==cuisine, \"num_orders\"].sum() / total_orders\n",
    "    for cuisine in df[\"cuisine\"].unique()\n",
    "}"
   ]
  },
  {
   "cell_type": "code",
   "execution_count": null,
   "metadata": {},
   "outputs": [],
   "source": [
    "plt.figure(figsize=(12, 6))\n",
    "plt.pie(\n",
    "    dict_cuisine.values(),\n",
    "    labels=dict_cuisine.keys(),\n",
    "    autopct=\"%.1f\",\n",
    "    explode=[0., 0., .1, 0.]\n",
    ")\n",
    "plt.title(\"Cuisine Share %\")\n",
    "plt.show()"
   ]
  },
  {
   "cell_type": "markdown",
   "metadata": {},
   "source": [
    "### Histogram\n",
    "\n",
    "Histogram digunakan untuk menampilkan distribusi dari suatu data numerik."
   ]
  },
  {
   "cell_type": "code",
   "execution_count": null,
   "metadata": {},
   "outputs": [],
   "source": [
    "plt.hist(df[\"base_price\"])\n",
    "plt.show()"
   ]
  },
  {
   "cell_type": "code",
   "execution_count": null,
   "metadata": {},
   "outputs": [],
   "source": [
    "plt.figure(figsize=(15, 6))\n",
    "plt.hist(\n",
    "    df[\"base_price\"],\n",
    "    bins=15,\n",
    "    rwidth=.9,\n",
    "    color=\"#F57C01\",\n",
    "    edgecolor=\"blue\"\n",
    ")\n",
    "plt.show()"
   ]
  },
  {
   "cell_type": "code",
   "execution_count": null,
   "metadata": {},
   "outputs": [],
   "source": [
    "plt.figure(figsize=(15, 6))\n",
    "sns.distplot(df[\"base_price\"])\n",
    "plt.show()"
   ]
  },
  {
   "cell_type": "markdown",
   "metadata": {
    "tags": []
   },
   "source": [
    "### Line Plot\n",
    "\n",
    "*Line plot* sering digunakan untuk menampilkan data tren. Dalam kasus ini, kita akan menggunakan data *food demand*."
   ]
  },
  {
   "cell_type": "code",
   "execution_count": null,
   "metadata": {},
   "outputs": [],
   "source": [
    "avg_weekly_food_demand = df.groupby(\"week\")[[\"checkout_price\", \"num_orders\", \"base_price\"]].mean()"
   ]
  },
  {
   "cell_type": "code",
   "execution_count": null,
   "metadata": {
    "tags": []
   },
   "outputs": [],
   "source": [
    "plt.figure(figsize=(15, 6))\n",
    "plt.plot(avg_weekly_food_demand.index, avg_weekly_food_demand[\"base_price\"], label=\"base_price\")\n",
    "plt.plot(avg_weekly_food_demand.index, avg_weekly_food_demand[\"checkout_price\"], label=\"checkout_price\")\n",
    "plt.legend()\n",
    "plt.show()"
   ]
  },
  {
   "cell_type": "code",
   "execution_count": null,
   "metadata": {},
   "outputs": [],
   "source": [
    "plt.figure(figsize=(18, 9))\n",
    "sns.lineplot(x=avg_weekly_food_demand.index, y=\"base_price\", data=avg_weekly_food_demand)\n",
    "sns.lineplot(x=avg_weekly_food_demand.index, y=\"checkout_price\", data=avg_weekly_food_demand)\n",
    "plt.show()"
   ]
  }
 ],
 "metadata": {
  "kernelspec": {
   "display_name": "Python 3 (ipykernel)",
   "language": "python",
   "name": "python3"
  },
  "language_info": {
   "codemirror_mode": {
    "name": "ipython",
    "version": 3
   },
   "file_extension": ".py",
   "mimetype": "text/x-python",
   "name": "python",
   "nbconvert_exporter": "python",
   "pygments_lexer": "ipython3",
   "version": "3.8.11"
  }
 },
 "nbformat": 4,
 "nbformat_minor": 4
}
