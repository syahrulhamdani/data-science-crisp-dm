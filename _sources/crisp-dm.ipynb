{
 "cells": [
  {
   "cell_type": "markdown",
   "id": "6055ab2e-fd92-4ea3-a700-e58bdbd05405",
   "metadata": {},
   "source": [
    "# Data Science Process using CRISP-DM\n",
    "\n",
    "CRISP-DM merupakan salah satu proses yang sangat umum digunakan dalam data science. CRISP-DM, atau kepanjangan dari *Cross Industry Standard Process for Data Mining*, dalam data science, digunakan sebagai framework untuk memulai sebuah proyek data science sampai menemukan solusi yang dikehendaki. Ujung dari sebuah proyek data science terdiri dari 2 tujuan:\n",
    "* untuk manusia → berupa laporan, presentasi, *insights*, dan sejenisnya\n",
    "* untuk komputer → *deployment*, perangkat lunak, dan sejenisnya.\n",
    "\n",
    "Secara umum, terdapat 8 tahapan dalam CRISP-DM:\n",
    "1. *Business understanding*\n",
    "2. *Data understanding*\n",
    "3. *Data preparation*\n",
    "4. *Modeling*\n",
    "5. *Deployment*\n",
    "\n",
    "Kita akan menggunakan data *[Customer Personality Analysis](https://www.kaggle.com/imakash3011/customer-personality-analysis)* untuk mempraktikkan CRISP-DM. Silakan unduh data melalui link tersebut dan simpan di dalam folder `data/marketing_campaign.csv`.\n",
    "\n",
    "## A Look At The Data\n",
    "\n",
    "Terkadang kita punya data yang akan kita pakai untuk mendefinisikan masalah yang akan kita selesaikan, itulah kenapa banyak perusahaan yang ingin menyimpan \"terlebih dahulu\" semua data yang berkaitan dengan perusahaan untuk kemudian dianalisis di lain waktu. Itu yang akan kita lakukan sekarang dan untuk memulai, kita impor beberapa library yang akan kita butuhkan."
   ]
  },
  {
   "cell_type": "code",
   "execution_count": null,
   "id": "564b6d6b-aac3-41cd-8a20-cc0b1ef861cd",
   "metadata": {},
   "outputs": [],
   "source": [
    "import numpy as np\n",
    "import matplotlib.pyplot as plt\n",
    "import pandas as pd\n",
    "import seaborn as sns\n",
    "\n",
    "plt.style.use(\"fivethirtyeight\")"
   ]
  },
  {
   "cell_type": "markdown",
   "id": "428e683d-c43f-4d66-91f6-44a859682731",
   "metadata": {},
   "source": [
    "Kemudian, kita muat data `data/marketing_campaign.csv` menggunakan pemisah \"tab\" (`\\t`)."
   ]
  },
  {
   "cell_type": "code",
   "execution_count": null,
   "id": "b79201a5-415f-4696-a26c-0f587f79c2dc",
   "metadata": {},
   "outputs": [],
   "source": [
    "df = pd.read_csv(\"data/marketing_campaign.csv\", sep=\"\\t\")\n",
    "df.head()"
   ]
  },
  {
   "cell_type": "markdown",
   "id": "860229c2-8bac-4621-b258-ff391081e8c5",
   "metadata": {},
   "source": [
    "### 1. Berapa jumlah baris dan kolom pada data?\n",
    "\n",
    "Umumnya, setiap kali kita melakukan analisis data, kita tertarik untuk mencari tahu jumlah baris dan kolom pada data."
   ]
  },
  {
   "cell_type": "code",
   "execution_count": null,
   "id": "8edda9fe-1deb-4f89-9598-cc789296d8a1",
   "metadata": {},
   "outputs": [],
   "source": [
    "num_rows = df.shape[0]\n",
    "num_cols = df.shape[1]\n",
    "\n",
    "print(\"# of rows:\", num_rows)\n",
    "print(\"# of columns:\", num_cols)"
   ]
  },
  {
   "cell_type": "markdown",
   "id": "f323b297-bc6e-4a4d-a018-de1fccceada7",
   "metadata": {},
   "source": [
    "### 2. *Data dictionary*\n",
    "\n",
    "Setelah kita tahu jumlah kolom pada data, kita juga tertarik apa representasi dari masing-masing kolomnya, yang disebut dengan **data dictionary**. Untuk hal ini, biasanya seseorang dari tim bisnis, data engineer, data scientist, atau siapapun yang dulu menyimpan data tersebut, paham apa representasi dari tiap kolom. Pada kasus kita kali ini, berikut adalah *data dictionary* kita.\n",
    "\n",
    "\n",
    "#### People\n",
    "\n",
    "| Column Name | Representation |\n",
    "| :---------- | :------------- |\n",
    "| `ID` | Customer's unique identifier |\n",
    "| `Year_Birth` | Customer's birth year |\n",
    "| `Education` | Customer's education level |\n",
    "| `Marital_Status` | Customer's marital status |\n",
    "| `Income` | Customer's yearly household income |\n",
    "| `Kidhome` | Number of children in customer's household |\n",
    "| `Teenhome` | Number of teenagers in customer's household |\n",
    "| `Dt_Customer` | Date of customer's enrollment with the company |\n",
    "| `Recency` | Number of days since customer's last purchase |\n",
    "| `Complain` | 1 if customer complained in the last 2 years, 0 otherwise |\n",
    "\n",
    "\n",
    "#### Products\n",
    "\n",
    "| Column Name | Representation |\n",
    "| :---------- | :------------- |\n",
    "| `MntWines` | Amount spent on wine in last 2 years |\n",
    "| `MntFruits` | Amount spent on fruits in last 2 years |\n",
    "| `MntMeatProducts` | Amount spent on meat in last 2 years |\n",
    "| `MntFishProducts` | Amount spent on fish in last 2 years |\n",
    "| `MntSweetProducts` | Amount spent on sweets in last 2 years |\n",
    "| `MntGoldProds` | Amount spent on gold in last 2 years |\n",
    "\n",
    "\n",
    "#### Promotion\n",
    "\n",
    "| Column Name | Representation |\n",
    "| :---------- | :------------- |\n",
    "| `NumDealsPurchases` | Number of purchases made with a discount |\n",
    "| `AcceptedCmp1` | 1 if customer accepted the offer in the 1st campaign, 0 otherwise |\n",
    "| `AcceptedCmp2` | 1 if customer accepted the offer in the 2nd campaign, 0 otherwise |\n",
    "| `AcceptedCmp3` | 1 if customer accepted the offer in the 3rd campaign, 0 otherwise |\n",
    "| `AcceptedCmp4` | 1 if customer accepted the offer in the 4th campaign, 0 otherwise |\n",
    "| `AcceptedCmp5` | 1 if customer accepted the offer in the 5th campaign, 0 otherwise |\n",
    "| `Response` | 1 if customer accepted the offer in the last campaign, 0 otherwise |\n",
    "\n",
    "\n",
    "#### Place\n",
    "\n",
    "| Column Name | Representation |\n",
    "| :---------- | :------------- |\n",
    "| `NumWebPurchases` | Number of purchases made through the company’s web site |\n",
    "| `NumCatalogPurchases` | Number of purchases made using a catalogue |\n",
    "| `NumStorePurchases` | Number of purchases made directly in stores |\n",
    "| `NumWebVisitsMonth` | Number of visits to company’s web site in the last month |\n",
    "\n",
    "\n",
    "### 3. *Missing values*\n",
    "\n",
    "Untuk setiap data yang akan kita analisis, nyatanya, akan sering mengandung beberapa nilai kosong atau yang disebut dengan *missing value*. Ada banyak hal yang menyebabkan adanya nilai kosong, seperti kesalahan pada sistem saat proses koleksi data atau responden yang tidak ingin mengisi kolom tersebut pada suatu survei. Oleh karena itu, kita perlu tahu keadaan ekstrim kolom, yaitu kolom mana saja yang tidak memiliki nilai kosong dan mana saja yang hampir semua nilainya kosong.\n",
    "\n",
    "Kita bisa menggunakan metode `isna` pada objek DataFrame.\n",
    "\n",
    "```python\n",
    "df.isna()\n",
    "```"
   ]
  },
  {
   "cell_type": "code",
   "execution_count": null,
   "id": "25bb51af-c7d8-4b80-8843-2aa06c3159b1",
   "metadata": {},
   "outputs": [],
   "source": [
    "cols_no_na = df.columns[df.isna().sum(axis=0) == 0]\n",
    "cols_with_na = df.columns[df.isna().sum(axis=0) > 0]\n",
    "\n",
    "print(\"Columns with no missing value:\", cols_no_na)\n",
    "print(\"Columns with missing values:\", cols_with_na)"
   ]
  },
  {
   "cell_type": "markdown",
   "id": "2d316573-e4bd-46d4-861c-e670074740cd",
   "metadata": {},
   "source": [
    "```{admonition} Eksplorasi\n",
    "Coba hitung persentase *missing value* dari tiap kolom!\n",
    "```"
   ]
  },
  {
   "cell_type": "code",
   "execution_count": null,
   "id": "fc945e97-8225-4a4b-9590-d6684e8d82d4",
   "metadata": {},
   "outputs": [],
   "source": [
    "# KETIK DI SINI\n"
   ]
  },
  {
   "cell_type": "markdown",
   "id": "7a0dc934-b156-4798-989a-5213593c0835",
   "metadata": {},
   "source": [
    "Selain kita tinjau tiap kolom, kita mungkin juga perlu melihat *missing value* untuk tiap baris data, apakah ada baris yang lebih dari 50% atributnya merupakan nilai kosong. Berbeda dengan kolom, untuk meninjau baris, kita gunakan `axis=1`.\n",
    "\n",
    "```python\n",
    "df.isna().sum(axis=1)\n",
    "```"
   ]
  },
  {
   "cell_type": "code",
   "execution_count": null,
   "id": "469ad806-717f-42c5-9999-6b9b8e83474c",
   "metadata": {},
   "outputs": [],
   "source": [
    "df[df.isna().sum(axis=1) > 0]"
   ]
  },
  {
   "cell_type": "markdown",
   "id": "fce36fed-0337-4f48-9bfe-392d0cc97382",
   "metadata": {},
   "source": [
    "```{tip}\n",
    "Pandas menyediakan metode `DataFrame.info()` yang akan menampilkan informasi terkait tipe data pada setiap kolom dan jumlah *non-missing values*.\n",
    "```"
   ]
  },
  {
   "cell_type": "code",
   "execution_count": null,
   "id": "58be333b-9d89-4687-9639-f6642c9da977",
   "metadata": {},
   "outputs": [],
   "source": [
    "df.info()"
   ]
  },
  {
   "cell_type": "markdown",
   "id": "56486acc-6353-41a8-b0ff-0bb7ba01044d",
   "metadata": {},
   "source": [
    "### 4. `Dtype` Tiap Kolom\n",
    "\n",
    "Jika kita lihat hasil dari metode `info` dan dicocokkan dengan *data dictionary*, kolom `Dt_Customer` sepertinya merepresentasikan sebuah tanggal tapi tipe datanya masih `object`. Oleh karena itu, kita perlu mengubah tipe data `Dt_Customer` menjadi `datetime`.\n",
    "\n",
    "```{note}\n",
    "Pandas memiliki fitur yang akan sangat membantu kita untuk berinteraksi dengan data `datetime`. Oleh karena itu, sangat dianjurkan semua tipe data yang mewakili data tanggal/waktu diubah menjadi `datetime`.\n",
    "```\n",
    "\n",
    "````{panels}\n",
    ":column: col-sm\n",
    "\n",
    "\n",
    "**Convert to datetime with `astype`**\n",
    "^^^\n",
    "`astype` dapat digunakan pada `Series` ataupun `DataFrame`.\n",
    "\n",
    "```python\n",
    "Series.astype(\"datetime64[ns, UTC]\")\n",
    "```\n",
    "---\n",
    "\n",
    "**Convert to datetime with `pd.to_datetime`**\n",
    "^^^\n",
    "Menggunakan fungsi bawaan pandas:\n",
    "\n",
    "```python\n",
    "pandas.to_datetime(Series)\n",
    "```\n",
    "````"
   ]
  },
  {
   "cell_type": "code",
   "execution_count": null,
   "id": "e85f24c6-abec-459d-91d3-28fdf3df236c",
   "metadata": {},
   "outputs": [],
   "source": [
    "df.Dt_Customer = df.Dt_Customer.astype(\"datetime64\")"
   ]
  },
  {
   "cell_type": "markdown",
   "id": "0e892638-e91c-4c12-9742-10371d44eee5",
   "metadata": {},
   "source": [
    "### 5. Visualisasi Sederhana\n",
    "\n",
    "Saatnya sekarang kita membuat visualisasi awal yang sederhana untuk mencari tahu karakter dari masing-masing kolom. Jenis visualisasi yang akan kita buat biasanya berupa *univariate* ataupun *multivariate* (mungkin maksimal 3-4 variabel).\n",
    "\n",
    "```{admonition} Bar Plot\n",
    ":class: warning\n",
    "Bagaimana distribusi status kawin dari setiap customer?\n",
    "```"
   ]
  },
  {
   "cell_type": "code",
   "execution_count": null,
   "id": "a7dae975-7ab3-4480-8915-473c67d1694f",
   "metadata": {},
   "outputs": [],
   "source": [
    "outlier_year = df.Year_Birth < 1940\n",
    "outlier_income = df.Income > 200000"
   ]
  },
  {
   "cell_type": "code",
   "execution_count": null,
   "id": "b6c87781-23c5-4638-bbd1-3f1f30c79ead",
   "metadata": {},
   "outputs": [],
   "source": [
    "plt.figure(figsize=(10, 5))\n",
    "sns.countplot(x=\"Marital_Status\", data=df)\n",
    "plt.title(\"Kebanyakan Customer Berstatus Kawin\")\n",
    "plt.xlabel(\"Status Kawin\", loc=\"left\")\n",
    "plt.ylabel(\"Count\", loc=\"top\")\n",
    "plt.grid(False)\n",
    "plt.show()"
   ]
  },
  {
   "cell_type": "markdown",
   "id": "1fe2f353-e122-498e-bc28-bcc71ba35f1a",
   "metadata": {},
   "source": [
    "```{admonition} Scatter Plot\n",
    ":class: warning\n",
    "Bagaimana hubungan antara umur dan gaji?\n",
    "```"
   ]
  },
  {
   "cell_type": "code",
   "execution_count": null,
   "id": "fff95699-17bd-4647-97b3-5b98bddd5258",
   "metadata": {
    "tags": [
     "remove-input"
    ]
   },
   "outputs": [],
   "source": [
    "plt.figure(dpi=150)\n",
    "sns.scatterplot(x=\"Year_Birth\", y=\"Income\", data=df[~outlier_year & ~outlier_income], color=\"gray\")\n",
    "sns.scatterplot(x=\"Year_Birth\", y=\"Income\", data=df[outlier_year | outlier_income], color=\"royalblue\")\n",
    "plt.xlabel(\"Tahun Kelahiran\", loc=\"left\")\n",
    "plt.ylabel(\"Income\", loc=\"top\")\n",
    "plt.title(f\"4 Customer Yang Berbeda Dengan Lainnya\", loc=\"left\")\n",
    "plt.text(1980, 650000, \"Outlier\", color=\"royalblue\")\n",
    "plt.text(1900, 120000, \"Outlier\", color=\"royalblue\", horizontalalignment=\"center\")\n",
    "plt.grid(False)\n",
    "plt.show()"
   ]
  },
  {
   "cell_type": "markdown",
   "id": "4fdf3bfc-0acf-4516-94ff-c2a3e5e8569e",
   "metadata": {},
   "source": [
    "Dari gambar di atas, terlihat ada setidaknya **4 customer** yang berbeda dengan yang lain. Dalam visualisasi, *outlier* ini memaksa skala dalam grafik untuk menampung semua titik, sehingga kita kurang bisa melihat kebanyakan data. Oleh karena itu, kita bisa buat visualisasi tanpa keempat *outlier*."
   ]
  },
  {
   "cell_type": "code",
   "execution_count": null,
   "id": "a25f36ac-aa66-4a8d-bb0c-09cc4179052a",
   "metadata": {
    "tags": [
     "remove-input"
    ]
   },
   "outputs": [],
   "source": [
    "avg_year = df.Year_Birth.mean().round()\n",
    "avg_income = df.Income.mean().round(2)"
   ]
  },
  {
   "cell_type": "code",
   "execution_count": null,
   "id": "9edf5a32-b47b-4df2-bbe7-5a97b1bfce60",
   "metadata": {
    "tags": []
   },
   "outputs": [],
   "source": [
    "plt.figure(dpi=150)\n",
    "sns.scatterplot(x=\"Year_Birth\", y=\"Income\", data=df[~outlier_income & ~outlier_year], color=\"gray\")\n",
    "sns.regplot(x=\"Year_Birth\", y=\"Income\", data=df[~outlier_income & ~outlier_year], scatter=False, line_kws=dict(linewidth=2), color=\"royalblue\")\n",
    "plt.xlabel(\"Tahun Kelahiran\", loc=\"left\")\n",
    "plt.ylabel(\"Income\", loc=\"top\")\n",
    "plt.title(\"Korelasi Negatif yang Lemah Antara Birth Year - Income\", loc=\"left\")\n",
    "plt.grid(False)\n",
    "plt.show()"
   ]
  },
  {
   "cell_type": "code",
   "execution_count": null,
   "id": "0eaac9f7-5295-4813-aa6e-67bd6c508fe5",
   "metadata": {},
   "outputs": [],
   "source": [
    "customer_by_date = df.set_index(\"Dt_Customer\").resample(\"D\")\n",
    "customer_by_month = df.set_index(\"Dt_Customer\").resample(\"M\")\n",
    "customer_by_year = df.set_index(\"Dt_Customer\").resample(\"Y\")\n",
    "customer_by_quarter = df.set_index(\"Dt_Customer\").resample(\"Q\")\n",
    "\n",
    "plt.figure(figsize=(15, 6), dpi=80)\n",
    "ax = sns.lineplot(\n",
    "    x=customer_by_quarter.count().index.date,\n",
    "    y=\"ID\",\n",
    "    data=customer_by_quarter.count(),\n",
    "    marker=\"o\",\n",
    "    color=\"gray\",\n",
    "    size=14\n",
    ")\n",
    "plt.xticks(\n",
    "#     range(len(customer_by_quarter.groups)),\n",
    "    customer_by_quarter.count().index.date,\n",
    "    [d.month_name()[:3] + \" '\" + str(d.year)[-2:] for d in customer_by_quarter.groups],\n",
    "    fontsize=12\n",
    ")\n",
    "plt.yticks(ax.get_yticks(), fontsize=12)\n",
    "plt.legend([])\n",
    "plt.xlabel(\"Join Date\", loc=\"left\")\n",
    "plt.ylabel(\"# of Customers\", loc=\"top\")\n",
    "plt.title(\"Jumlah Penambahan Customer Terbanyak di Q1 dan Q4 2013\", loc=\"left\", y=1.1)\n",
    "plt.grid(False)\n",
    "plt.show()"
   ]
  },
  {
   "cell_type": "markdown",
   "id": "224c7ff1-a4c7-47f9-b71f-21e342fad32d",
   "metadata": {
    "tags": []
   },
   "source": [
    "```{admonition} Apa Saja Yang Perlu Kita Cek\n",
    ":class: tip\n",
    "✅ Cari tahu jumlah baris dan kolom pada data\n",
    "\n",
    "✅ Cari tahu apakah ada *missing value* pada masing-masing baris dan/atau kolom\n",
    "\n",
    "✅ Cek apakah kolom merepresentasikan tipe data yang seharusnya (contoh: *numeric* yang dianggap *string*)\n",
    "\n",
    "✅ Buat visualisasi eksplorasi seperti barplot, boxplot, scatterplot, dan lainnya\n",
    "```\n",
    "\n",
    "\n",
    "## Business Questions\n",
    "\n",
    "Setelah kita melihat-lihat data yang kita gunakan, sekarang saatnya untuk memformulasikan masalah yang ingin diselesaikan atau informasi apa yang kita gali dari data.\n",
    "\n",
    "````{note}\n",
    "Terkadang kita memulai dengan keadaan sudah memiliki data, sehingga kita perlu mencari tahu informasi apa yang ingin digali. Tapi, bisa juga kita sudah mempunyai masalah bisnis yang ingin kita pecahkan atau cari tahu, tapi kita belum menemukan data yang cocok seperti apa.\n",
    "\n",
    "```{figure} ./assets/images/data-question-solution.png\n",
    ":alt: Data - Question - Solution\n",
    ":name: data-question-solution\n",
    ":width: 50%\n",
    "Data - Question - Solution\n",
    "```\n",
    "\n",
    "```{figure} ./assets/images/question-data-solution.png\n",
    ":alt: Question - Data - Solution\n",
    ":name: question-data-solution\n",
    ":width: 50%\n",
    "Question - Data - Solution\n",
    "```\n",
    "````\n",
    "\n",
    "Setelah melihat secara singkat dan membuat visualisasi data, kamu bisa membuat beberapa pertanyaan bisnis yang menurut kamu menarik untuk dicari. Sebagai contoh, berikut beberapa pertanyaan bisnis yang bisa kita eksplor sama-sama:\n",
    "\n",
    "1. Bagaimana `Education` berhubungan dengan `Income` yang mungkin juga berhubungan dengan **jumlah total pembelian**?\n",
    "2. *Customer* seperti apakah yang sering membeli produk melalui Web, Toko, serta Katalog produk?\n",
    "\n",
    "\n",
    "## Data Understanding\n",
    "\n",
    "Dari ketiga *business problem* tersebut, kita terjemahkan ke dalam data bagaimana **asumsi dan langkah awal** untuk menjawab pertanyaan tersebut. Mungkin kita akan memerlukan *modeling* menggunakan *machine learning*, tapi setidaknya kita harus mencoba menjawab pertanyaan tersebut menggunakan data yang tersedia dulu.\n",
    "\n",
    "\n",
    "### 1. Hubungan `Education` dengan `Income` dengan Jumlah Total Pembelian\n",
    "\n",
    "Pertama, kita harus membuat kolom baru yang menjumlahkan semua pembelian, misal kita namai `NumTotalPurchases`."
   ]
  },
  {
   "cell_type": "code",
   "execution_count": null,
   "id": "0248d3c2-618a-454b-bc4d-60f31d9d65b6",
   "metadata": {},
   "outputs": [],
   "source": [
    "df[\"NumTotalPurchases\"] = df[\"NumCatalogPurchases\"] + df[\"NumDealsPurchases\"] + df[\"NumWebPurchases\"]"
   ]
  },
  {
   "cell_type": "markdown",
   "id": "d054698c-9e55-483c-b3dc-062b5a81fa20",
   "metadata": {},
   "source": [
    "Jika kita lihat bagaimana hubungan antara `Income` dengan `NumTotalPurchases` di bawah ini, sekilas memang terdapat relasi positif diantara keduanya. Tapi, mari kita coba lihat lebih jauh lagi."
   ]
  },
  {
   "cell_type": "code",
   "execution_count": null,
   "id": "5ca22492-bf4b-4b6f-ac31-6091eb7384d4",
   "metadata": {},
   "outputs": [],
   "source": [
    "plt.figure(figsize=(10, 6), dpi=80)\n",
    "sns.scatterplot(x=\"Income\", y=\"NumTotalPurchases\", data=df, color=\"gray\")\n",
    "sns.regplot(\n",
    "    x=\"Income\", y=\"NumTotalPurchases\", data=df, scatter=False, line_kws=dict(linewidth=2), color=\"royalblue\"\n",
    ")\n",
    "plt.xlabel(\"Income\", loc=\"left\")\n",
    "plt.ylabel(\"Total Purchases\", loc=\"top\")\n",
    "plt.title(\"Strong Positive Corrletion Between Income and Total Purchases\", loc=\"left\")\n",
    "plt.show()"
   ]
  },
  {
   "cell_type": "code",
   "execution_count": null,
   "id": "4bee9ee6-72dc-48f1-b2d1-5ec2db699f47",
   "metadata": {},
   "outputs": [],
   "source": [
    "plt.figure(figsize=(10, 6), dpi=80)\n",
    "sns.boxplot(\n",
    "    x=\"Income\",\n",
    "    y=\"Education\",\n",
    "    data=df\n",
    ")\n",
    "plt.xlabel(\"Income\", loc=\"left\")\n",
    "plt.xticks(size=10)\n",
    "plt.ylabel(\"Eduation\", loc=\"top\")\n",
    "plt.title(\"Harder To Look Due To Outliers\", loc=\"left\")\n",
    "plt.show()"
   ]
  },
  {
   "cell_type": "markdown",
   "id": "d13931e8-ce4b-4f72-b6d9-d58b8616e184",
   "metadata": {},
   "source": [
    "Dari gambar di atas, kita terasa sulit untuk melihat secara teliti bagaimana sebaran `Income` pada masing-masing jenis `Education` karena beberapa outliers. Oleh karena itu, untuk melihat lebih dalam lagi, kita perlu menghilangkan outlier tersebut untuk \"sementara\". Kita bisa gunakan kode di bawah untuk menghilangkan beberapa outliers pada `Income`.\n",
    "\n",
    "```python\n",
    "df_no_outliers = df[df.Income < df.Income.quantile(.75) + 1.5*(df.Income.quantile(.75) - df.Income.quantile(.25))]\n",
    "\n",
    "plt.figure(figsize=(10, 6), dpi=80)\n",
    "sns.boxplot(\n",
    "    x=\"Income\",\n",
    "    y=\"Education\",\n",
    "    data=df_no_outliers\n",
    ")\n",
    "plt.xlabel(\"Income\", loc=\"left\")\n",
    "plt.xticks(size=10)\n",
    "plt.ylabel(\"Eduation\", loc=\"top\")\n",
    "plt.title(\"\")\n",
    "plt.show()\n",
    "```"
   ]
  },
  {
   "cell_type": "code",
   "execution_count": null,
   "id": "b45cced1-5ec0-4ae6-8b0a-9092f2f45576",
   "metadata": {
    "tags": [
     "remove-input"
    ]
   },
   "outputs": [],
   "source": [
    "df_no_outliers = df[\n",
    "    df.Income < df.Income.quantile(.75) + 1.5*(df.Income.quantile(.75) - df.Income.quantile(.25))\n",
    "]\n",
    "\n",
    "plt.figure(figsize=(10, 6), dpi=80)\n",
    "sns.boxplot(\n",
    "    x=\"Income\",\n",
    "    y=\"Education\",\n",
    "    data=df_no_outliers,\n",
    "    showmeans=True, meanprops={\"markerfacecolor\": \"white\", \"marker\": \"o\"},\n",
    "    order=[\"PhD\", \"Master\", \"Graduation\", \"Basic\", \"2n Cycle\"]\n",
    ")\n",
    "plt.xlabel(\"Income\", loc=\"left\")\n",
    "plt.xticks(size=10)\n",
    "plt.ylabel(\"Eduation\", loc=\"top\")\n",
    "plt.title(\n",
    "    \"PhD Customers Have The Highest Average Income, \\nGraduation Customers Have The Highest Variance\",\n",
    "    loc=\"left\"\n",
    ")\n",
    "plt.show()"
   ]
  },
  {
   "cell_type": "markdown",
   "id": "3f2956bd-cc39-47f6-a0bf-6b9ed18299f1",
   "metadata": {},
   "source": [
    "Dari gambar di atas, terlihat bahwa customer dengan latar belakang edukasi PhD memiliki rata-rata pendapatan yang paling tinggi dibanding lainnya, sedangkan pendapatan dengan latar belakang edukasi *Graduation* paling bervariasi dari pada yang lain. Sedangkan, *Basic* memiliki rata-rata dan variansi pendapatan yang paling rendah.\n",
    "\n",
    "Selanjutnya, kita coba lihat bagaimana hubungan antara pendapatan pada masing-masing edukasi terhadap jumlah total pembelian."
   ]
  },
  {
   "cell_type": "code",
   "execution_count": null,
   "id": "16227169-afab-47c2-bffa-cd872a5350c0",
   "metadata": {},
   "outputs": [],
   "source": [
    "fig, ax = plt.subplots(4, 1, figsize=(10, 8), sharex=True, sharey=True)\n",
    "for axis, edu in zip(ax, [\"PhD\", \"Graduation\", \"Master\", \"Basic\"]):\n",
    "    sns.scatterplot(\n",
    "        x=\"Income\",\n",
    "        y=\"NumTotalPurchases\",\n",
    "        data=df_no_outliers[df_no_outliers.Education == edu],\n",
    "        ax=axis,\n",
    "        alpha=.5,\n",
    "        color=\"gray\"\n",
    "    )\n",
    "    sns.regplot(\n",
    "        x=\"Income\",\n",
    "        y=\"NumTotalPurchases\",\n",
    "        data=df_no_outliers[df_no_outliers.Education == edu],\n",
    "        ax=axis,\n",
    "        scatter=False,\n",
    "        line_kws=dict(linewidth=2), color=\"royalblue\"\n",
    "    )\n",
    "    axis.annotate(\n",
    "        \"Education=\"+ edu,\n",
    "        xycoords=\"axes fraction\",\n",
    "        xy=(1.02, .5),\n",
    "        bbox={\"boxstyle\": \"round\", \"fc\": \"w\", \"alpha\": .3}\n",
    "    )\n",
    "    axis.set_ylabel(\"\")\n",
    "fig.text(.02, .9, \"Total Purchases\", rotation=\"vertical\", va=\"top\", fontsize=18)\n",
    "plt.xlabel(\"Income\", loc=\"left\", fontsize=18)\n",
    "plt.suptitle(\"PhD, Graduation, & Master Education Income Correlate Positively\", x=0.5, y=.95)\n",
    "plt.show()"
   ]
  },
  {
   "cell_type": "markdown",
   "id": "a2491001-0cf0-41ff-bc83-07f0e228467a",
   "metadata": {},
   "source": [
    "Berdasarkan visualisasi data di atas, pendapatan customer dengan latar belakang edukasi *PhD*, *Graduation*, *Master* memiliki korelasi positif terhadap jumlah pembelian yang dilakukan, meskipun tidak sebegitu kuat dibanding pendapatan secara keseluruhan.\n",
    "\n",
    "### 2. Customer Yang Membeli Melalui Web, Toko, dan Katalog\n",
    "\n"
   ]
  },
  {
   "cell_type": "code",
   "execution_count": null,
   "id": "9c49446d-cdc2-4177-9361-cbca0f64db6c",
   "metadata": {},
   "outputs": [],
   "source": [
    "cust_no_purchases = df[df[\"NumTotalPurchases\"] == 0]\n"
   ]
  }
 ],
 "metadata": {
  "kernelspec": {
   "display_name": "Python 3 (ipykernel)",
   "language": "python",
   "name": "python3"
  },
  "language_info": {
   "codemirror_mode": {
    "name": "ipython",
    "version": 3
   },
   "file_extension": ".py",
   "mimetype": "text/x-python",
   "name": "python",
   "nbconvert_exporter": "python",
   "pygments_lexer": "ipython3",
   "version": "3.8.11"
  }
 },
 "nbformat": 4,
 "nbformat_minor": 5
}
